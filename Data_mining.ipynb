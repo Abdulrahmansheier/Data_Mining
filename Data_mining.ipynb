{
  "cells": [
    {
      "cell_type": "markdown",
      "metadata": {
        "id": "view-in-github",
        "colab_type": "text"
      },
      "source": [
        "<a href=\"https://colab.research.google.com/github/Abdulrahmansheier/Data_Mining/blob/main/Data_mining.ipynb\" target=\"_parent\"><img src=\"https://colab.research.google.com/assets/colab-badge.svg\" alt=\"Open In Colab\"/></a>"
      ]
    },
    {
      "cell_type": "markdown",
      "id": "36fb4be4",
      "metadata": {
        "id": "36fb4be4"
      },
      "source": [
        "# Importing libraries"
      ]
    },
    {
      "cell_type": "code",
      "execution_count": null,
      "id": "0748894c",
      "metadata": {
        "id": "0748894c"
      },
      "outputs": [],
      "source": [
        "import os\n",
        "import random\n",
        "from collections import defaultdict\n",
        "from pprint import pprint\n",
        "import nltk\n",
        "from nltk.corpus.reader import BNCCorpusReader\n",
        "from nltk.corpus.reader.plaintext import PlaintextCorpusReader\n",
        "from sklearn.model_selection import train_test_split\n",
        "from sklearn.linear_model import LogisticRegression\n",
        "from sklearn.metrics import classification_report, accuracy_score, precision_score, recall_score, confusion_matrix\n",
        "import seaborn as sns\n",
        "from matplotlib import pyplot as plt\n",
        "import numpy as np\n",
        "import pandas as pd\n",
        "\n",
        "import tensorflow as tf\n",
        "from tensorflow import keras\n",
        "from tensorflow.keras import layers, losses, metrics\n",
        "\n",
        "from lxml import etree\n",
        "import altair as al"
      ]
    },
    {
      "cell_type": "code",
      "execution_count": null,
      "id": "8ab93404",
      "metadata": {
        "id": "8ab93404"
      },
      "outputs": [],
      "source": [
        "# Specifying the path directory\n",
        "path = r\"C:\\Users\\3mabd\\Desktop\\bnc2014spoken-xml\\spoken\"\n",
        "dir_corpus_tagged = os.path.join(path, \"tagged\")\n",
        "dir_corpus_untagged = os.path.join(path, \"untagged\")\n",
        "dir_meta = os.path.join(path, \"metadata\")"
      ]
    },
    {
      "cell_type": "markdown",
      "id": "ea5b78d7",
      "metadata": {
        "id": "ea5b78d7"
      },
      "source": [
        "# Managing data from the utternce data"
      ]
    },
    {
      "cell_type": "code",
      "execution_count": null,
      "id": "414585a9",
      "metadata": {
        "id": "414585a9"
      },
      "outputs": [],
      "source": [
        "# First ill be printing the utterence data to view it from the untagged corpus"
      ]
    },
    {
      "cell_type": "code",
      "execution_count": null,
      "id": "c3c523f9",
      "metadata": {
        "scrolled": true,
        "id": "c3c523f9",
        "outputId": "9b59b8a9-cfae-44e0-b7dc-8ba41a4129bd"
      },
      "outputs": [
        {
          "data": {
            "text/html": [
              "<div>\n",
              "<style scoped>\n",
              "    .dataframe tbody tr th:only-of-type {\n",
              "        vertical-align: middle;\n",
              "    }\n",
              "\n",
              "    .dataframe tbody tr th {\n",
              "        vertical-align: top;\n",
              "    }\n",
              "\n",
              "    .dataframe thead th {\n",
              "        text-align: right;\n",
              "    }\n",
              "</style>\n",
              "<table border=\"1\" class=\"dataframe\">\n",
              "  <thead>\n",
              "    <tr style=\"text-align: right;\">\n",
              "      <th></th>\n",
              "      <th>n</th>\n",
              "      <th>who</th>\n",
              "      <th>u</th>\n",
              "      <th>unclear</th>\n",
              "      <th>trans</th>\n",
              "      <th>whoConfidence</th>\n",
              "      <th>vocal</th>\n",
              "      <th>foreign</th>\n",
              "      <th>anon</th>\n",
              "      <th>pause</th>\n",
              "      <th>trunc</th>\n",
              "      <th>shift</th>\n",
              "      <th>event</th>\n",
              "    </tr>\n",
              "  </thead>\n",
              "  <tbody>\n",
              "    <tr>\n",
              "      <th>0</th>\n",
              "      <td>1</td>\n",
              "      <td>S0094</td>\n",
              "      <td>words</td>\n",
              "      <td>None</td>\n",
              "      <td>None</td>\n",
              "      <td>None</td>\n",
              "      <td>NaN</td>\n",
              "      <td>None</td>\n",
              "      <td>NaN</td>\n",
              "      <td>NaN</td>\n",
              "      <td>None</td>\n",
              "      <td>NaN</td>\n",
              "      <td>NaN</td>\n",
              "    </tr>\n",
              "    <tr>\n",
              "      <th>1</th>\n",
              "      <td>2</td>\n",
              "      <td>S0095</td>\n",
              "      <td>it's a games word? like a computer games word?</td>\n",
              "      <td>None</td>\n",
              "      <td>None</td>\n",
              "      <td>None</td>\n",
              "      <td>NaN</td>\n",
              "      <td>None</td>\n",
              "      <td>NaN</td>\n",
              "      <td>NaN</td>\n",
              "      <td>None</td>\n",
              "      <td>NaN</td>\n",
              "      <td>NaN</td>\n",
              "    </tr>\n",
              "    <tr>\n",
              "      <th>2</th>\n",
              "      <td>3</td>\n",
              "      <td>S0032</td>\n",
              "      <td>yeah yeah</td>\n",
              "      <td>None</td>\n",
              "      <td>None</td>\n",
              "      <td>None</td>\n",
              "      <td>NaN</td>\n",
              "      <td>None</td>\n",
              "      <td>NaN</td>\n",
              "      <td>NaN</td>\n",
              "      <td>None</td>\n",
              "      <td>NaN</td>\n",
              "      <td>NaN</td>\n",
              "    </tr>\n",
              "    <tr>\n",
              "      <th>3</th>\n",
              "      <td>4</td>\n",
              "      <td>S0095</td>\n",
              "      <td>oh</td>\n",
              "      <td>oh that's nice</td>\n",
              "      <td>None</td>\n",
              "      <td>None</td>\n",
              "      <td>NaN</td>\n",
              "      <td>None</td>\n",
              "      <td>NaN</td>\n",
              "      <td>NaN</td>\n",
              "      <td>None</td>\n",
              "      <td>NaN</td>\n",
              "      <td>NaN</td>\n",
              "    </tr>\n",
              "    <tr>\n",
              "      <th>4</th>\n",
              "      <td>5</td>\n",
              "      <td>S0032</td>\n",
              "      <td>I it's something I</td>\n",
              "      <td>have really heard</td>\n",
              "      <td>overlap</td>\n",
              "      <td>None</td>\n",
              "      <td>NaN</td>\n",
              "      <td>None</td>\n",
              "      <td>NaN</td>\n",
              "      <td>NaN</td>\n",
              "      <td>None</td>\n",
              "      <td>NaN</td>\n",
              "      <td>NaN</td>\n",
              "    </tr>\n",
              "    <tr>\n",
              "      <th>...</th>\n",
              "      <td>...</td>\n",
              "      <td>...</td>\n",
              "      <td>...</td>\n",
              "      <td>...</td>\n",
              "      <td>...</td>\n",
              "      <td>...</td>\n",
              "      <td>...</td>\n",
              "      <td>...</td>\n",
              "      <td>...</td>\n",
              "      <td>...</td>\n",
              "      <td>...</td>\n",
              "      <td>...</td>\n",
              "      <td>...</td>\n",
              "    </tr>\n",
              "    <tr>\n",
              "      <th>1248105</th>\n",
              "      <td>316</td>\n",
              "      <td>S0432</td>\n",
              "      <td>but</td>\n",
              "      <td>Mai Li</td>\n",
              "      <td>None</td>\n",
              "      <td>None</td>\n",
              "      <td>NaN</td>\n",
              "      <td>NaN</td>\n",
              "      <td>NaN</td>\n",
              "      <td>NaN</td>\n",
              "      <td>None</td>\n",
              "      <td>NaN</td>\n",
              "      <td>NaN</td>\n",
              "    </tr>\n",
              "    <tr>\n",
              "      <th>1248106</th>\n",
              "      <td>317</td>\n",
              "      <td>S0428</td>\n",
              "      <td>None</td>\n",
              "      <td>Sha Li</td>\n",
              "      <td>None</td>\n",
              "      <td>None</td>\n",
              "      <td>NaN</td>\n",
              "      <td>NaN</td>\n",
              "      <td>NaN</td>\n",
              "      <td>NaN</td>\n",
              "      <td>None</td>\n",
              "      <td>NaN</td>\n",
              "      <td>NaN</td>\n",
              "    </tr>\n",
              "    <tr>\n",
              "      <th>1248107</th>\n",
              "      <td>318</td>\n",
              "      <td>S0432</td>\n",
              "      <td>I'll just stick with it yeah</td>\n",
              "      <td>None</td>\n",
              "      <td>overlap</td>\n",
              "      <td>None</td>\n",
              "      <td>NaN</td>\n",
              "      <td>NaN</td>\n",
              "      <td>NaN</td>\n",
              "      <td>NaN</td>\n",
              "      <td>let</td>\n",
              "      <td>NaN</td>\n",
              "      <td>NaN</td>\n",
              "    </tr>\n",
              "    <tr>\n",
              "      <th>1248108</th>\n",
              "      <td>319</td>\n",
              "      <td>S0428</td>\n",
              "      <td>None</td>\n",
              "      <td>None</td>\n",
              "      <td>overlap</td>\n",
              "      <td>None</td>\n",
              "      <td>NaN</td>\n",
              "      <td>NaN</td>\n",
              "      <td>NaN</td>\n",
              "      <td>NaN</td>\n",
              "      <td>None</td>\n",
              "      <td>NaN</td>\n",
              "      <td>NaN</td>\n",
              "    </tr>\n",
              "    <tr>\n",
              "      <th>1248109</th>\n",
              "      <td>320</td>\n",
              "      <td>S0432</td>\n",
              "      <td>mm</td>\n",
              "      <td>None</td>\n",
              "      <td>overlap</td>\n",
              "      <td>None</td>\n",
              "      <td>NaN</td>\n",
              "      <td>NaN</td>\n",
              "      <td>NaN</td>\n",
              "      <td>NaN</td>\n",
              "      <td>None</td>\n",
              "      <td>NaN</td>\n",
              "      <td>NaN</td>\n",
              "    </tr>\n",
              "  </tbody>\n",
              "</table>\n",
              "<p>1248110 rows × 13 columns</p>\n",
              "</div>"
            ],
            "text/plain": [
              "           n    who                                               u  \\\n",
              "0          1  S0094                                           words   \n",
              "1          2  S0095  it's a games word? like a computer games word?   \n",
              "2          3  S0032                                       yeah yeah   \n",
              "3          4  S0095                                              oh   \n",
              "4          5  S0032                              I it's something I   \n",
              "...      ...    ...                                             ...   \n",
              "1248105  316  S0432                                             but   \n",
              "1248106  317  S0428                                            None   \n",
              "1248107  318  S0432                    I'll just stick with it yeah   \n",
              "1248108  319  S0428                                            None   \n",
              "1248109  320  S0432                                              mm   \n",
              "\n",
              "                   unclear    trans whoConfidence  vocal foreign  anon  pause  \\\n",
              "0                     None     None          None    NaN    None   NaN    NaN   \n",
              "1                     None     None          None    NaN    None   NaN    NaN   \n",
              "2                     None     None          None    NaN    None   NaN    NaN   \n",
              "3           oh that's nice     None          None    NaN    None   NaN    NaN   \n",
              "4        have really heard  overlap          None    NaN    None   NaN    NaN   \n",
              "...                    ...      ...           ...    ...     ...   ...    ...   \n",
              "1248105             Mai Li     None          None    NaN     NaN   NaN    NaN   \n",
              "1248106             Sha Li     None          None    NaN     NaN   NaN    NaN   \n",
              "1248107               None  overlap          None    NaN     NaN   NaN    NaN   \n",
              "1248108               None  overlap          None    NaN     NaN   NaN    NaN   \n",
              "1248109               None  overlap          None    NaN     NaN   NaN    NaN   \n",
              "\n",
              "        trunc  shift  event  \n",
              "0        None    NaN    NaN  \n",
              "1        None    NaN    NaN  \n",
              "2        None    NaN    NaN  \n",
              "3        None    NaN    NaN  \n",
              "4        None    NaN    NaN  \n",
              "...       ...    ...    ...  \n",
              "1248105  None    NaN    NaN  \n",
              "1248106  None    NaN    NaN  \n",
              "1248107   let    NaN    NaN  \n",
              "1248108  None    NaN    NaN  \n",
              "1248109  None    NaN    NaN  \n",
              "\n",
              "[1248110 rows x 13 columns]"
            ]
          },
          "execution_count": 4,
          "metadata": {},
          "output_type": "execute_result"
        }
      ],
      "source": [
        "def read(dir, xpath):\n",
        "    f_names = os.listdir(dir)\n",
        "    f_paths = [f\"{dir}/{name}\" for name in f_names]\n",
        "    units = []\n",
        "\n",
        "    for path in f_paths:\n",
        "        block = pd.read_xml(path, xpath=xpath, encoding='utf-8')\n",
        "        units.append(block)\n",
        "\n",
        "    frame = pd.concat(units, axis=0, ignore_index=True)\n",
        "    return frame\n",
        "\n",
        "df = read(dir_corpus_untagged, '//u')\n",
        "df"
      ]
    },
    {
      "cell_type": "code",
      "execution_count": null,
      "id": "b512d4b9",
      "metadata": {
        "id": "b512d4b9"
      },
      "outputs": [],
      "source": [
        "# This code is for changing the type to string\n",
        "df['u'] = df['u'].astype('string')\n",
        "# This part is for remving any Null values\n",
        "df =  df[df['u'] != '<NA>']"
      ]
    },
    {
      "cell_type": "code",
      "execution_count": null,
      "id": "836a2f55",
      "metadata": {
        "id": "836a2f55",
        "outputId": "291862e5-02a8-444c-a6dc-b7f115eb9f30"
      },
      "outputs": [
        {
          "data": {
            "text/plain": [
              "n                      0\n",
              "who                    0\n",
              "u                      0\n",
              "unclear          1103183\n",
              "trans             891784\n",
              "whoConfidence    1096240\n",
              "vocal            1119744\n",
              "foreign          1119262\n",
              "anon             1119744\n",
              "pause            1119744\n",
              "trunc            1068040\n",
              "shift            1119744\n",
              "event            1119744\n",
              "dtype: int64"
            ]
          },
          "execution_count": 6,
          "metadata": {},
          "output_type": "execute_result"
        }
      ],
      "source": [
        "# getting the number of missing data points per column\n",
        "missing_values_count = df.isnull().sum()\n",
        "# missing points in the columns\n",
        "missing_values_count"
      ]
    },
    {
      "cell_type": "code",
      "execution_count": null,
      "id": "312b5fed",
      "metadata": {
        "id": "312b5fed"
      },
      "outputs": [],
      "source": [
        "# remove all the rows that contain a missing value\n",
        "df = df.dropna(axis=1)"
      ]
    },
    {
      "cell_type": "code",
      "execution_count": null,
      "id": "ca70b892",
      "metadata": {
        "id": "ca70b892",
        "outputId": "db1c2ea6-4715-4a09-8a6c-be8784a9e973"
      },
      "outputs": [
        {
          "data": {
            "text/plain": [
              "n      0\n",
              "who    0\n",
              "u      0\n",
              "dtype: int64"
            ]
          },
          "execution_count": 8,
          "metadata": {},
          "output_type": "execute_result"
        }
      ],
      "source": [
        "# get the number of missing data points per column in the utterance\n",
        "missing_values_count = df.isnull().sum()\n",
        "# missing points in the columns\n",
        "missing_values_count"
      ]
    },
    {
      "cell_type": "code",
      "execution_count": null,
      "id": "1df855ea",
      "metadata": {
        "id": "1df855ea",
        "outputId": "25ffaa68-0dd0-468e-b821-4d3a364c22d3"
      },
      "outputs": [
        {
          "data": {
            "text/html": [
              "<div>\n",
              "<style scoped>\n",
              "    .dataframe tbody tr th:only-of-type {\n",
              "        vertical-align: middle;\n",
              "    }\n",
              "\n",
              "    .dataframe tbody tr th {\n",
              "        vertical-align: top;\n",
              "    }\n",
              "\n",
              "    .dataframe thead th {\n",
              "        text-align: right;\n",
              "    }\n",
              "</style>\n",
              "<table border=\"1\" class=\"dataframe\">\n",
              "  <thead>\n",
              "    <tr style=\"text-align: right;\">\n",
              "      <th></th>\n",
              "      <th>n</th>\n",
              "      <th>who</th>\n",
              "      <th>u</th>\n",
              "    </tr>\n",
              "  </thead>\n",
              "  <tbody>\n",
              "    <tr>\n",
              "      <th>0</th>\n",
              "      <td>1</td>\n",
              "      <td>S0094</td>\n",
              "      <td>words</td>\n",
              "    </tr>\n",
              "    <tr>\n",
              "      <th>1</th>\n",
              "      <td>2</td>\n",
              "      <td>S0095</td>\n",
              "      <td>it's a games word? like a computer games word?</td>\n",
              "    </tr>\n",
              "    <tr>\n",
              "      <th>2</th>\n",
              "      <td>3</td>\n",
              "      <td>S0032</td>\n",
              "      <td>yeah yeah</td>\n",
              "    </tr>\n",
              "    <tr>\n",
              "      <th>3</th>\n",
              "      <td>4</td>\n",
              "      <td>S0095</td>\n",
              "      <td>oh</td>\n",
              "    </tr>\n",
              "    <tr>\n",
              "      <th>4</th>\n",
              "      <td>5</td>\n",
              "      <td>S0032</td>\n",
              "      <td>I it's something I</td>\n",
              "    </tr>\n",
              "    <tr>\n",
              "      <th>...</th>\n",
              "      <td>...</td>\n",
              "      <td>...</td>\n",
              "      <td>...</td>\n",
              "    </tr>\n",
              "    <tr>\n",
              "      <th>1248099</th>\n",
              "      <td>310</td>\n",
              "      <td>S0432</td>\n",
              "      <td>yeah</td>\n",
              "    </tr>\n",
              "    <tr>\n",
              "      <th>1248100</th>\n",
              "      <td>311</td>\n",
              "      <td>S0428</td>\n",
              "      <td>Little Jasmine</td>\n",
              "    </tr>\n",
              "    <tr>\n",
              "      <th>1248105</th>\n",
              "      <td>316</td>\n",
              "      <td>S0432</td>\n",
              "      <td>but</td>\n",
              "    </tr>\n",
              "    <tr>\n",
              "      <th>1248107</th>\n",
              "      <td>318</td>\n",
              "      <td>S0432</td>\n",
              "      <td>I'll just stick with it yeah</td>\n",
              "    </tr>\n",
              "    <tr>\n",
              "      <th>1248109</th>\n",
              "      <td>320</td>\n",
              "      <td>S0432</td>\n",
              "      <td>mm</td>\n",
              "    </tr>\n",
              "  </tbody>\n",
              "</table>\n",
              "<p>1119744 rows × 3 columns</p>\n",
              "</div>"
            ],
            "text/plain": [
              "           n    who                                               u\n",
              "0          1  S0094                                           words\n",
              "1          2  S0095  it's a games word? like a computer games word?\n",
              "2          3  S0032                                       yeah yeah\n",
              "3          4  S0095                                              oh\n",
              "4          5  S0032                              I it's something I\n",
              "...      ...    ...                                             ...\n",
              "1248099  310  S0432                                            yeah\n",
              "1248100  311  S0428                                  Little Jasmine\n",
              "1248105  316  S0432                                             but\n",
              "1248107  318  S0432                    I'll just stick with it yeah\n",
              "1248109  320  S0432                                              mm\n",
              "\n",
              "[1119744 rows x 3 columns]"
            ]
          },
          "execution_count": 9,
          "metadata": {},
          "output_type": "execute_result"
        }
      ],
      "source": [
        "# Inspecting the U file after removing the columns with the missing values\n",
        "df"
      ]
    },
    {
      "cell_type": "code",
      "execution_count": null,
      "id": "f0ba9af6",
      "metadata": {
        "id": "f0ba9af6",
        "outputId": "8f3ac57e-4f64-49b3-f2a1-9d81af44c46a"
      },
      "outputs": [
        {
          "name": "stdout",
          "output_type": "stream",
          "text": [
            "who\n",
            "S0001        27.627119\n",
            "S0002        26.239700\n",
            "S0003        27.650602\n",
            "S0004        32.746130\n",
            "S0005        30.714286\n",
            "               ...    \n",
            "S0691        27.050000\n",
            "S0692        21.859756\n",
            "UNKFEMALE    17.482796\n",
            "UNKMALE      19.669201\n",
            "UNKMULTI      6.035928\n",
            "Name: u, Length: 671, dtype: float64\n"
          ]
        }
      ],
      "source": [
        "# group data by speaker and calculate mean utterance length per speaker\n",
        "mean_utterance_length = df.groupby('who')['u'].apply(lambda x: x.str.len().mean())\n",
        "print(mean_utterance_length)"
      ]
    },
    {
      "cell_type": "code",
      "execution_count": null,
      "id": "06a558ba",
      "metadata": {
        "id": "06a558ba",
        "outputId": "3215ee5d-b25a-4410-b213-8d09e2f63caa"
      },
      "outputs": [
        {
          "name": "stdout",
          "output_type": "stream",
          "text": [
            "       count        mean          std  min    25%    50%     75%      max  \\\n",
            "n  1119744.0  947.209766  1324.344264  1.0  252.0  586.0  1205.0  16574.0   \n",
            "\n",
            "     range  \n",
            "n  16573.0  \n"
          ]
        }
      ],
      "source": [
        "# choosing the three columns in the utterence table\n",
        "df_utterence = df[['n', 'who', 'u']]\n",
        "\n",
        "# create summary statistics table\n",
        "summary_statistics = df_utterence.describe(percentiles=[0.25, 0.5, 0.75]).transpose()\n",
        "# adding the range column to summary table\n",
        "summary_statistics['range'] = summary_statistics['max'] - summary_statistics['min']\n",
        "# reorder columns\n",
        "summary_statistics = summary_statistics[['count', 'mean', 'std', 'min', '25%', '50%', '75%', 'max', 'range']]\n",
        "\n",
        "# print summary table\n",
        "print(summary_statistics)\n"
      ]
    },
    {
      "cell_type": "markdown",
      "id": "653cd6eb",
      "metadata": {
        "id": "653cd6eb"
      },
      "source": [
        "# Managing data from the speakers data"
      ]
    },
    {
      "cell_type": "code",
      "execution_count": null,
      "id": "329312e0",
      "metadata": {
        "id": "329312e0"
      },
      "outputs": [],
      "source": [
        "# printing the speakers data to view it"
      ]
    },
    {
      "cell_type": "code",
      "execution_count": null,
      "id": "1e526f32",
      "metadata": {
        "id": "1e526f32",
        "outputId": "5bdffe3f-a205-4253-a26d-34b13e8e0d12"
      },
      "outputs": [
        {
          "data": {
            "text/html": [
              "<div>\n",
              "<style scoped>\n",
              "    .dataframe tbody tr th:only-of-type {\n",
              "        vertical-align: middle;\n",
              "    }\n",
              "\n",
              "    .dataframe tbody tr th {\n",
              "        vertical-align: top;\n",
              "    }\n",
              "\n",
              "    .dataframe thead th {\n",
              "        text-align: right;\n",
              "    }\n",
              "</style>\n",
              "<table border=\"1\" class=\"dataframe\">\n",
              "  <thead>\n",
              "    <tr style=\"text-align: right;\">\n",
              "      <th></th>\n",
              "      <th>id</th>\n",
              "      <th>exactage</th>\n",
              "      <th>age1994</th>\n",
              "      <th>agerange</th>\n",
              "      <th>gender</th>\n",
              "      <th>nat</th>\n",
              "      <th>birthplace</th>\n",
              "      <th>birthcountry</th>\n",
              "      <th>l1</th>\n",
              "      <th>lingorig</th>\n",
              "      <th>...</th>\n",
              "      <th>dialect_l2</th>\n",
              "      <th>dialect_l3</th>\n",
              "      <th>dialect_l4</th>\n",
              "      <th>edqual</th>\n",
              "      <th>occupation</th>\n",
              "      <th>socgrade</th>\n",
              "      <th>nssec</th>\n",
              "      <th>l2</th>\n",
              "      <th>fls</th>\n",
              "      <th>in_core</th>\n",
              "    </tr>\n",
              "  </thead>\n",
              "  <tbody>\n",
              "    <tr>\n",
              "      <th>0</th>\n",
              "      <td>S0021</td>\n",
              "      <td>27</td>\n",
              "      <td>25_34</td>\n",
              "      <td>19_29</td>\n",
              "      <td>F</td>\n",
              "      <td>British</td>\n",
              "      <td>Swindon</td>\n",
              "      <td>England</td>\n",
              "      <td>English</td>\n",
              "      <td>England</td>\n",
              "      <td>...</td>\n",
              "      <td>england</td>\n",
              "      <td>south</td>\n",
              "      <td>southwest</td>\n",
              "      <td>5_postgrad</td>\n",
              "      <td>Teacher</td>\n",
              "      <td>B</td>\n",
              "      <td>2</td>\n",
              "      <td>None</td>\n",
              "      <td>None</td>\n",
              "      <td>y</td>\n",
              "    </tr>\n",
              "    <tr>\n",
              "      <th>1</th>\n",
              "      <td>S0032</td>\n",
              "      <td>28</td>\n",
              "      <td>25_34</td>\n",
              "      <td>19_29</td>\n",
              "      <td>M</td>\n",
              "      <td>British</td>\n",
              "      <td>Yoevil</td>\n",
              "      <td>England</td>\n",
              "      <td>English</td>\n",
              "      <td>England</td>\n",
              "      <td>...</td>\n",
              "      <td>england</td>\n",
              "      <td>south</td>\n",
              "      <td>southwest</td>\n",
              "      <td>4_graduate</td>\n",
              "      <td>Software developer</td>\n",
              "      <td>A</td>\n",
              "      <td>1_2</td>\n",
              "      <td>None</td>\n",
              "      <td>None</td>\n",
              "      <td>y</td>\n",
              "    </tr>\n",
              "    <tr>\n",
              "      <th>2</th>\n",
              "      <td>S0094</td>\n",
              "      <td>33</td>\n",
              "      <td>25_34</td>\n",
              "      <td>30_39</td>\n",
              "      <td>F</td>\n",
              "      <td>British</td>\n",
              "      <td>Swindon</td>\n",
              "      <td>England</td>\n",
              "      <td>English</td>\n",
              "      <td>England</td>\n",
              "      <td>...</td>\n",
              "      <td>england</td>\n",
              "      <td>south</td>\n",
              "      <td>southwest</td>\n",
              "      <td>5_postgrad</td>\n",
              "      <td>PhD student</td>\n",
              "      <td>A</td>\n",
              "      <td>1_2</td>\n",
              "      <td>German</td>\n",
              "      <td>Welsh -- Beginner</td>\n",
              "      <td>y</td>\n",
              "    </tr>\n",
              "    <tr>\n",
              "      <th>3</th>\n",
              "      <td>S0095</td>\n",
              "      <td>33</td>\n",
              "      <td>25_34</td>\n",
              "      <td>30_39</td>\n",
              "      <td>M</td>\n",
              "      <td>British</td>\n",
              "      <td>Camarthen</td>\n",
              "      <td>Scotland</td>\n",
              "      <td>English</td>\n",
              "      <td>England</td>\n",
              "      <td>...</td>\n",
              "      <td>wales</td>\n",
              "      <td>wales</td>\n",
              "      <td>wales</td>\n",
              "      <td>5_postgrad</td>\n",
              "      <td>Self employed maker</td>\n",
              "      <td>E</td>\n",
              "      <td>uncat</td>\n",
              "      <td>None</td>\n",
              "      <td>None</td>\n",
              "      <td>y</td>\n",
              "    </tr>\n",
              "    <tr>\n",
              "      <th>4</th>\n",
              "      <td>S0261</td>\n",
              "      <td>41</td>\n",
              "      <td>35_44</td>\n",
              "      <td>40_49</td>\n",
              "      <td>M</td>\n",
              "      <td>British/New Zealand</td>\n",
              "      <td>Wellington</td>\n",
              "      <td>New Zealand</td>\n",
              "      <td>English</td>\n",
              "      <td>England/NZ</td>\n",
              "      <td>...</td>\n",
              "      <td>non_uk</td>\n",
              "      <td>non_uk</td>\n",
              "      <td>non_uk</td>\n",
              "      <td>4_graduate</td>\n",
              "      <td>Entrepreneur</td>\n",
              "      <td>A</td>\n",
              "      <td>1_2</td>\n",
              "      <td>NaN</td>\n",
              "      <td>None</td>\n",
              "      <td>n</td>\n",
              "    </tr>\n",
              "    <tr>\n",
              "      <th>...</th>\n",
              "      <td>...</td>\n",
              "      <td>...</td>\n",
              "      <td>...</td>\n",
              "      <td>...</td>\n",
              "      <td>...</td>\n",
              "      <td>...</td>\n",
              "      <td>...</td>\n",
              "      <td>...</td>\n",
              "      <td>...</td>\n",
              "      <td>...</td>\n",
              "      <td>...</td>\n",
              "      <td>...</td>\n",
              "      <td>...</td>\n",
              "      <td>...</td>\n",
              "      <td>...</td>\n",
              "      <td>...</td>\n",
              "      <td>...</td>\n",
              "      <td>...</td>\n",
              "      <td>...</td>\n",
              "      <td>...</td>\n",
              "      <td>...</td>\n",
              "    </tr>\n",
              "    <tr>\n",
              "      <th>3588</th>\n",
              "      <td>S0510</td>\n",
              "      <td>47</td>\n",
              "      <td>45_59</td>\n",
              "      <td>40_49</td>\n",
              "      <td>F</td>\n",
              "      <td>British</td>\n",
              "      <td>England</td>\n",
              "      <td>England</td>\n",
              "      <td>English</td>\n",
              "      <td>England</td>\n",
              "      <td>...</td>\n",
              "      <td>england</td>\n",
              "      <td>south</td>\n",
              "      <td>unspecified</td>\n",
              "      <td>5_postgrad</td>\n",
              "      <td>Receptionist</td>\n",
              "      <td>D</td>\n",
              "      <td>6</td>\n",
              "      <td>NaN</td>\n",
              "      <td>NaN</td>\n",
              "      <td>y</td>\n",
              "    </tr>\n",
              "    <tr>\n",
              "      <th>3589</th>\n",
              "      <td>S0058</td>\n",
              "      <td>23</td>\n",
              "      <td>15_24</td>\n",
              "      <td>19_29</td>\n",
              "      <td>F</td>\n",
              "      <td>British</td>\n",
              "      <td>Sunderland, Tyne and Wear</td>\n",
              "      <td>England</td>\n",
              "      <td>English</td>\n",
              "      <td>England</td>\n",
              "      <td>...</td>\n",
              "      <td>england</td>\n",
              "      <td>north</td>\n",
              "      <td>northeast</td>\n",
              "      <td>4_graduate</td>\n",
              "      <td>Corpus Administrator</td>\n",
              "      <td>B</td>\n",
              "      <td>2</td>\n",
              "      <td>NaN</td>\n",
              "      <td>None</td>\n",
              "      <td>n</td>\n",
              "    </tr>\n",
              "    <tr>\n",
              "      <th>3590</th>\n",
              "      <td>S0120</td>\n",
              "      <td>23</td>\n",
              "      <td>15_24</td>\n",
              "      <td>19_29</td>\n",
              "      <td>M</td>\n",
              "      <td>British &amp; German</td>\n",
              "      <td>Pembury, Kent</td>\n",
              "      <td>England</td>\n",
              "      <td>English</td>\n",
              "      <td>England</td>\n",
              "      <td>...</td>\n",
              "      <td>england</td>\n",
              "      <td>south</td>\n",
              "      <td>unspecified</td>\n",
              "      <td>5_postgrad</td>\n",
              "      <td>Graduate Civil Engineer</td>\n",
              "      <td>C1</td>\n",
              "      <td>4</td>\n",
              "      <td>NaN</td>\n",
              "      <td>German -- Advanced; French -- Advanced</td>\n",
              "      <td>n</td>\n",
              "    </tr>\n",
              "    <tr>\n",
              "      <th>3591</th>\n",
              "      <td>S0428</td>\n",
              "      <td>27</td>\n",
              "      <td>25_34</td>\n",
              "      <td>19_29</td>\n",
              "      <td>F</td>\n",
              "      <td>British</td>\n",
              "      <td>Aylesbury, Buckinghamshire</td>\n",
              "      <td>England</td>\n",
              "      <td>English</td>\n",
              "      <td>England</td>\n",
              "      <td>...</td>\n",
              "      <td>england</td>\n",
              "      <td>south</td>\n",
              "      <td>eastern_engl</td>\n",
              "      <td>5_postgrad</td>\n",
              "      <td>Language Research Co-ordinator</td>\n",
              "      <td>A</td>\n",
              "      <td>1_2</td>\n",
              "      <td>NaN</td>\n",
              "      <td>Spanish -- level unspecified; Italian -- level...</td>\n",
              "      <td>y</td>\n",
              "    </tr>\n",
              "    <tr>\n",
              "      <th>3592</th>\n",
              "      <td>S0432</td>\n",
              "      <td>23</td>\n",
              "      <td>15_24</td>\n",
              "      <td>19_29</td>\n",
              "      <td>F</td>\n",
              "      <td>White British</td>\n",
              "      <td>Lincoln</td>\n",
              "      <td>England</td>\n",
              "      <td>English</td>\n",
              "      <td>England</td>\n",
              "      <td>...</td>\n",
              "      <td>england</td>\n",
              "      <td>unspecified</td>\n",
              "      <td>unspecified</td>\n",
              "      <td>4_graduate</td>\n",
              "      <td>Language Research Administrator</td>\n",
              "      <td>A</td>\n",
              "      <td>1_2</td>\n",
              "      <td>NaN</td>\n",
              "      <td>Spanish -- level unspecified; Chinese -- level...</td>\n",
              "      <td>n</td>\n",
              "    </tr>\n",
              "  </tbody>\n",
              "</table>\n",
              "<p>3593 rows × 25 columns</p>\n",
              "</div>"
            ],
            "text/plain": [
              "         id exactage age1994 agerange gender                  nat  \\\n",
              "0     S0021       27   25_34    19_29      F              British   \n",
              "1     S0032       28   25_34    19_29      M              British   \n",
              "2     S0094       33   25_34    30_39      F              British   \n",
              "3     S0095       33   25_34    30_39      M              British   \n",
              "4     S0261       41   35_44    40_49      M  British/New Zealand   \n",
              "...     ...      ...     ...      ...    ...                  ...   \n",
              "3588  S0510       47   45_59    40_49      F              British   \n",
              "3589  S0058       23   15_24    19_29      F              British   \n",
              "3590  S0120       23   15_24    19_29      M     British & German   \n",
              "3591  S0428       27   25_34    19_29      F              British   \n",
              "3592  S0432       23   15_24    19_29      F        White British   \n",
              "\n",
              "                      birthplace birthcountry       l1    lingorig  ...  \\\n",
              "0                        Swindon      England  English     England  ...   \n",
              "1                         Yoevil      England  English     England  ...   \n",
              "2                        Swindon      England  English     England  ...   \n",
              "3                      Camarthen     Scotland  English     England  ...   \n",
              "4                     Wellington  New Zealand  English  England/NZ  ...   \n",
              "...                          ...          ...      ...         ...  ...   \n",
              "3588                     England      England  English     England  ...   \n",
              "3589   Sunderland, Tyne and Wear      England  English     England  ...   \n",
              "3590               Pembury, Kent      England  English     England  ...   \n",
              "3591  Aylesbury, Buckinghamshire      England  English     England  ...   \n",
              "3592                     Lincoln      England  English     England  ...   \n",
              "\n",
              "     dialect_l2   dialect_l3    dialect_l4      edqual  \\\n",
              "0       england        south     southwest  5_postgrad   \n",
              "1       england        south     southwest  4_graduate   \n",
              "2       england        south     southwest  5_postgrad   \n",
              "3         wales        wales         wales  5_postgrad   \n",
              "4        non_uk       non_uk        non_uk  4_graduate   \n",
              "...         ...          ...           ...         ...   \n",
              "3588    england        south   unspecified  5_postgrad   \n",
              "3589    england        north     northeast  4_graduate   \n",
              "3590    england        south   unspecified  5_postgrad   \n",
              "3591    england        south  eastern_engl  5_postgrad   \n",
              "3592    england  unspecified   unspecified  4_graduate   \n",
              "\n",
              "                           occupation socgrade  nssec      l2  \\\n",
              "0                             Teacher        B      2    None   \n",
              "1                  Software developer        A    1_2    None   \n",
              "2                         PhD student        A    1_2  German   \n",
              "3                 Self employed maker        E  uncat    None   \n",
              "4                        Entrepreneur        A    1_2     NaN   \n",
              "...                               ...      ...    ...     ...   \n",
              "3588                     Receptionist        D      6     NaN   \n",
              "3589             Corpus Administrator        B      2     NaN   \n",
              "3590          Graduate Civil Engineer       C1      4     NaN   \n",
              "3591   Language Research Co-ordinator        A    1_2     NaN   \n",
              "3592  Language Research Administrator        A    1_2     NaN   \n",
              "\n",
              "                                                    fls in_core  \n",
              "0                                                  None       y  \n",
              "1                                                  None       y  \n",
              "2                                     Welsh -- Beginner       y  \n",
              "3                                                  None       y  \n",
              "4                                                  None       n  \n",
              "...                                                 ...     ...  \n",
              "3588                                                NaN       y  \n",
              "3589                                               None       n  \n",
              "3590             German -- Advanced; French -- Advanced       n  \n",
              "3591  Spanish -- level unspecified; Italian -- level...       y  \n",
              "3592  Spanish -- level unspecified; Chinese -- level...       n  \n",
              "\n",
              "[3593 rows x 25 columns]"
            ]
          },
          "execution_count": 13,
          "metadata": {},
          "output_type": "execute_result"
        }
      ],
      "source": [
        "def read(dir, xpath):\n",
        "    f_names = os.listdir(dir)\n",
        "    f_paths = [f\"{dir}/{name}\" for name in f_names]\n",
        "    units = []\n",
        "\n",
        "    for path in f_paths:\n",
        "        block = pd.read_xml(path, xpath=xpath, encoding='utf-8')\n",
        "        units.append(block)\n",
        "\n",
        "    frame = pd.concat(units, axis=0, ignore_index=True)\n",
        "    return frame\n",
        "\n",
        "df_speaker = read(dir_corpus_untagged, '//speaker')\n",
        "df_speaker"
      ]
    },
    {
      "cell_type": "code",
      "execution_count": null,
      "id": "d1159302",
      "metadata": {
        "scrolled": true,
        "id": "d1159302",
        "outputId": "9d5980df-7072-4772-b5e8-1d4c0418051e"
      },
      "outputs": [
        {
          "name": "stdout",
          "output_type": "stream",
          "text": [
            "           count       mean        std  min   25%   50%   75%   max  range\n",
            "exactage  3233.0  37.603155  19.605057  2.0  21.0  36.0  53.0  91.0   89.0\n"
          ]
        }
      ],
      "source": [
        "# select age-related columns / columns of interest\n",
        "age_columns = ['exactage']\n",
        "#exactage' converting it to a numeric type using the pd.to_numeric function\n",
        "df_speaker[age_columns] = df_speaker[age_columns].apply(pd.to_numeric, errors='coerce')\n",
        "# create summary statistics table\n",
        "summary_statistics = df_speaker[age_columns].describe(percentiles=[0.25, 0.5, 0.75]).transpose()\n",
        "# add range column to summary table\n",
        "summary_statistics['range'] = summary_statistics['max'] - summary_statistics['min']\n",
        "# reorder columns\n",
        "summary_statistics = summary_statistics[['count', 'mean', 'std', 'min', '25%', '50%', '75%', 'max', 'range']]\n",
        "# print summary table\n",
        "print(summary_statistics)\n"
      ]
    },
    {
      "cell_type": "code",
      "execution_count": null,
      "id": "c817d326",
      "metadata": {
        "id": "c817d326",
        "outputId": "993b8689-c9d6-4841-e9b6-2e3b1533fbe4"
      },
      "outputs": [
        {
          "data": {
            "text/html": [
              "<div>\n",
              "<style scoped>\n",
              "    .dataframe tbody tr th:only-of-type {\n",
              "        vertical-align: middle;\n",
              "    }\n",
              "\n",
              "    .dataframe tbody tr th {\n",
              "        vertical-align: top;\n",
              "    }\n",
              "\n",
              "    .dataframe thead th {\n",
              "        text-align: right;\n",
              "    }\n",
              "</style>\n",
              "<table border=\"1\" class=\"dataframe\">\n",
              "  <thead>\n",
              "    <tr style=\"text-align: right;\">\n",
              "      <th></th>\n",
              "      <th>id</th>\n",
              "      <th>age1994</th>\n",
              "      <th>agerange</th>\n",
              "      <th>gender</th>\n",
              "      <th>dialect_rep</th>\n",
              "      <th>dialect_l1</th>\n",
              "      <th>dialect_l2</th>\n",
              "      <th>dialect_l3</th>\n",
              "      <th>dialect_l4</th>\n",
              "      <th>edqual</th>\n",
              "      <th>socgrade</th>\n",
              "      <th>nssec</th>\n",
              "      <th>in_core</th>\n",
              "    </tr>\n",
              "  </thead>\n",
              "  <tbody>\n",
              "    <tr>\n",
              "      <th>0</th>\n",
              "      <td>S0021</td>\n",
              "      <td>25_34</td>\n",
              "      <td>19_29</td>\n",
              "      <td>F</td>\n",
              "      <td>West Country</td>\n",
              "      <td>uk</td>\n",
              "      <td>england</td>\n",
              "      <td>south</td>\n",
              "      <td>southwest</td>\n",
              "      <td>5_postgrad</td>\n",
              "      <td>B</td>\n",
              "      <td>2</td>\n",
              "      <td>y</td>\n",
              "    </tr>\n",
              "    <tr>\n",
              "      <th>1</th>\n",
              "      <td>S0032</td>\n",
              "      <td>25_34</td>\n",
              "      <td>19_29</td>\n",
              "      <td>M</td>\n",
              "      <td>South West</td>\n",
              "      <td>uk</td>\n",
              "      <td>england</td>\n",
              "      <td>south</td>\n",
              "      <td>southwest</td>\n",
              "      <td>4_graduate</td>\n",
              "      <td>A</td>\n",
              "      <td>1_2</td>\n",
              "      <td>y</td>\n",
              "    </tr>\n",
              "    <tr>\n",
              "      <th>2</th>\n",
              "      <td>S0094</td>\n",
              "      <td>25_34</td>\n",
              "      <td>30_39</td>\n",
              "      <td>F</td>\n",
              "      <td>West Country</td>\n",
              "      <td>uk</td>\n",
              "      <td>england</td>\n",
              "      <td>south</td>\n",
              "      <td>southwest</td>\n",
              "      <td>5_postgrad</td>\n",
              "      <td>A</td>\n",
              "      <td>1_2</td>\n",
              "      <td>y</td>\n",
              "    </tr>\n",
              "    <tr>\n",
              "      <th>3</th>\n",
              "      <td>S0095</td>\n",
              "      <td>25_34</td>\n",
              "      <td>30_39</td>\n",
              "      <td>M</td>\n",
              "      <td>Slightly Welsh</td>\n",
              "      <td>uk</td>\n",
              "      <td>wales</td>\n",
              "      <td>wales</td>\n",
              "      <td>wales</td>\n",
              "      <td>5_postgrad</td>\n",
              "      <td>E</td>\n",
              "      <td>uncat</td>\n",
              "      <td>y</td>\n",
              "    </tr>\n",
              "    <tr>\n",
              "      <th>4</th>\n",
              "      <td>S0261</td>\n",
              "      <td>35_44</td>\n",
              "      <td>40_49</td>\n",
              "      <td>M</td>\n",
              "      <td>Kiwi English</td>\n",
              "      <td>non_uk</td>\n",
              "      <td>non_uk</td>\n",
              "      <td>non_uk</td>\n",
              "      <td>non_uk</td>\n",
              "      <td>4_graduate</td>\n",
              "      <td>A</td>\n",
              "      <td>1_2</td>\n",
              "      <td>n</td>\n",
              "    </tr>\n",
              "  </tbody>\n",
              "</table>\n",
              "</div>"
            ],
            "text/plain": [
              "      id age1994 agerange gender     dialect_rep dialect_l1 dialect_l2  \\\n",
              "0  S0021   25_34    19_29      F    West Country         uk    england   \n",
              "1  S0032   25_34    19_29      M      South West         uk    england   \n",
              "2  S0094   25_34    30_39      F    West Country         uk    england   \n",
              "3  S0095   25_34    30_39      M  Slightly Welsh         uk      wales   \n",
              "4  S0261   35_44    40_49      M    Kiwi English     non_uk     non_uk   \n",
              "\n",
              "  dialect_l3 dialect_l4      edqual socgrade  nssec in_core  \n",
              "0      south  southwest  5_postgrad        B      2       y  \n",
              "1      south  southwest  4_graduate        A    1_2       y  \n",
              "2      south  southwest  5_postgrad        A    1_2       y  \n",
              "3      wales      wales  5_postgrad        E  uncat       y  \n",
              "4     non_uk     non_uk  4_graduate        A    1_2       n  "
            ]
          },
          "execution_count": 15,
          "metadata": {},
          "output_type": "execute_result"
        }
      ],
      "source": [
        "# remove all columns with at least one missing value\n",
        "columns_with_na_dropped = df_speaker.dropna(axis=1)\n",
        "columns_with_na_dropped.head()"
      ]
    },
    {
      "cell_type": "markdown",
      "id": "e67cbb8b",
      "metadata": {
        "id": "e67cbb8b"
      },
      "source": [
        "#  Extracting the columns from df_speaker and merging it to Utternce"
      ]
    },
    {
      "cell_type": "code",
      "execution_count": null,
      "id": "2687bbd4",
      "metadata": {
        "id": "2687bbd4"
      },
      "outputs": [],
      "source": [
        "age_columns = ['exactage', 'age1994', 'agerange']\n",
        "df_age = df_speaker[age_columns]"
      ]
    },
    {
      "cell_type": "code",
      "execution_count": null,
      "id": "4ab4cf6b",
      "metadata": {
        "id": "4ab4cf6b",
        "outputId": "ea3937cb-6bb9-49bf-caf8-5178cdfbb735"
      },
      "outputs": [
        {
          "data": {
            "text/html": [
              "<div>\n",
              "<style scoped>\n",
              "    .dataframe tbody tr th:only-of-type {\n",
              "        vertical-align: middle;\n",
              "    }\n",
              "\n",
              "    .dataframe tbody tr th {\n",
              "        vertical-align: top;\n",
              "    }\n",
              "\n",
              "    .dataframe thead th {\n",
              "        text-align: right;\n",
              "    }\n",
              "</style>\n",
              "<table border=\"1\" class=\"dataframe\">\n",
              "  <thead>\n",
              "    <tr style=\"text-align: right;\">\n",
              "      <th></th>\n",
              "      <th>n</th>\n",
              "      <th>who</th>\n",
              "      <th>u</th>\n",
              "      <th>exactage</th>\n",
              "      <th>age1994</th>\n",
              "      <th>agerange</th>\n",
              "    </tr>\n",
              "  </thead>\n",
              "  <tbody>\n",
              "    <tr>\n",
              "      <th>0</th>\n",
              "      <td>1.0</td>\n",
              "      <td>S0094</td>\n",
              "      <td>words</td>\n",
              "      <td>27</td>\n",
              "      <td>25_34</td>\n",
              "      <td>19_29</td>\n",
              "    </tr>\n",
              "    <tr>\n",
              "      <th>1</th>\n",
              "      <td>2.0</td>\n",
              "      <td>S0095</td>\n",
              "      <td>it's a games word? like a computer games word?</td>\n",
              "      <td>28</td>\n",
              "      <td>25_34</td>\n",
              "      <td>19_29</td>\n",
              "    </tr>\n",
              "    <tr>\n",
              "      <th>2</th>\n",
              "      <td>3.0</td>\n",
              "      <td>S0032</td>\n",
              "      <td>yeah yeah</td>\n",
              "      <td>33</td>\n",
              "      <td>25_34</td>\n",
              "      <td>30_39</td>\n",
              "    </tr>\n",
              "    <tr>\n",
              "      <th>3</th>\n",
              "      <td>4.0</td>\n",
              "      <td>S0095</td>\n",
              "      <td>oh</td>\n",
              "      <td>33</td>\n",
              "      <td>25_34</td>\n",
              "      <td>30_39</td>\n",
              "    </tr>\n",
              "    <tr>\n",
              "      <th>4</th>\n",
              "      <td>5.0</td>\n",
              "      <td>S0032</td>\n",
              "      <td>I it's something I</td>\n",
              "      <td>41</td>\n",
              "      <td>35_44</td>\n",
              "      <td>40_49</td>\n",
              "    </tr>\n",
              "    <tr>\n",
              "      <th>...</th>\n",
              "      <td>...</td>\n",
              "      <td>...</td>\n",
              "      <td>...</td>\n",
              "      <td>...</td>\n",
              "      <td>...</td>\n",
              "      <td>...</td>\n",
              "    </tr>\n",
              "    <tr>\n",
              "      <th>3557</th>\n",
              "      <td>NaN</td>\n",
              "      <td>NaN</td>\n",
              "      <td>&lt;NA&gt;</td>\n",
              "      <td>59</td>\n",
              "      <td>45_59</td>\n",
              "      <td>50_59</td>\n",
              "    </tr>\n",
              "    <tr>\n",
              "      <th>3558</th>\n",
              "      <td>NaN</td>\n",
              "      <td>NaN</td>\n",
              "      <td>&lt;NA&gt;</td>\n",
              "      <td>32</td>\n",
              "      <td>25_34</td>\n",
              "      <td>30_39</td>\n",
              "    </tr>\n",
              "    <tr>\n",
              "      <th>3567</th>\n",
              "      <td>NaN</td>\n",
              "      <td>NaN</td>\n",
              "      <td>&lt;NA&gt;</td>\n",
              "      <td>59</td>\n",
              "      <td>45_59</td>\n",
              "      <td>50_59</td>\n",
              "    </tr>\n",
              "    <tr>\n",
              "      <th>3569</th>\n",
              "      <td>NaN</td>\n",
              "      <td>NaN</td>\n",
              "      <td>&lt;NA&gt;</td>\n",
              "      <td>23</td>\n",
              "      <td>15_24</td>\n",
              "      <td>19_29</td>\n",
              "    </tr>\n",
              "    <tr>\n",
              "      <th>3573</th>\n",
              "      <td>NaN</td>\n",
              "      <td>NaN</td>\n",
              "      <td>&lt;NA&gt;</td>\n",
              "      <td>23</td>\n",
              "      <td>15_24</td>\n",
              "      <td>19_29</td>\n",
              "    </tr>\n",
              "  </tbody>\n",
              "</table>\n",
              "<p>1120538 rows × 6 columns</p>\n",
              "</div>"
            ],
            "text/plain": [
              "        n    who                                               u exactage  \\\n",
              "0     1.0  S0094                                           words       27   \n",
              "1     2.0  S0095  it's a games word? like a computer games word?       28   \n",
              "2     3.0  S0032                                       yeah yeah       33   \n",
              "3     4.0  S0095                                              oh       33   \n",
              "4     5.0  S0032                              I it's something I       41   \n",
              "...   ...    ...                                             ...      ...   \n",
              "3557  NaN    NaN                                            <NA>       59   \n",
              "3558  NaN    NaN                                            <NA>       32   \n",
              "3567  NaN    NaN                                            <NA>       59   \n",
              "3569  NaN    NaN                                            <NA>       23   \n",
              "3573  NaN    NaN                                            <NA>       23   \n",
              "\n",
              "     age1994 agerange  \n",
              "0      25_34    19_29  \n",
              "1      25_34    19_29  \n",
              "2      25_34    30_39  \n",
              "3      25_34    30_39  \n",
              "4      35_44    40_49  \n",
              "...      ...      ...  \n",
              "3557   45_59    50_59  \n",
              "3558   25_34    30_39  \n",
              "3567   45_59    50_59  \n",
              "3569   15_24    19_29  \n",
              "3573   15_24    19_29  \n",
              "\n",
              "[1120538 rows x 6 columns]"
            ]
          },
          "execution_count": 17,
          "metadata": {},
          "output_type": "execute_result"
        }
      ],
      "source": [
        "# getting the speaker data\n",
        "df_speaker = read(dir_corpus_untagged, '//speaker')\n",
        "# selecting age-related columns\n",
        "age_columns = ['exactage', 'age1994', 'agerange']\n",
        "\n",
        "# merge age-related columns to df\n",
        "df_new = pd.concat([df, df_speaker[age_columns]], axis=1)\n",
        "df_new"
      ]
    },
    {
      "cell_type": "markdown",
      "id": "cb6be740",
      "metadata": {
        "id": "cb6be740"
      },
      "source": [
        "# Cleaning the new dataframe created"
      ]
    },
    {
      "cell_type": "code",
      "execution_count": null,
      "id": "52c8d088",
      "metadata": {
        "id": "52c8d088"
      },
      "outputs": [],
      "source": [
        "df_new = pd.concat([df, df_speaker[age_columns]], axis=1)\n",
        "df_new = df_new.dropna(subset=['who', 'exactage','age1994','agerange'])\n"
      ]
    },
    {
      "cell_type": "code",
      "execution_count": null,
      "id": "d734c691",
      "metadata": {
        "id": "d734c691",
        "outputId": "4baf9b53-6f94-4547-89a5-4c2c6f678d1e"
      },
      "outputs": [
        {
          "data": {
            "text/html": [
              "<div>\n",
              "<style scoped>\n",
              "    .dataframe tbody tr th:only-of-type {\n",
              "        vertical-align: middle;\n",
              "    }\n",
              "\n",
              "    .dataframe tbody tr th {\n",
              "        vertical-align: top;\n",
              "    }\n",
              "\n",
              "    .dataframe thead th {\n",
              "        text-align: right;\n",
              "    }\n",
              "</style>\n",
              "<table border=\"1\" class=\"dataframe\">\n",
              "  <thead>\n",
              "    <tr style=\"text-align: right;\">\n",
              "      <th></th>\n",
              "      <th>n</th>\n",
              "      <th>who</th>\n",
              "      <th>u</th>\n",
              "      <th>exactage</th>\n",
              "      <th>age1994</th>\n",
              "      <th>agerange</th>\n",
              "    </tr>\n",
              "  </thead>\n",
              "  <tbody>\n",
              "    <tr>\n",
              "      <th>0</th>\n",
              "      <td>1.0</td>\n",
              "      <td>S0094</td>\n",
              "      <td>words</td>\n",
              "      <td>27</td>\n",
              "      <td>25_34</td>\n",
              "      <td>19_29</td>\n",
              "    </tr>\n",
              "    <tr>\n",
              "      <th>1</th>\n",
              "      <td>2.0</td>\n",
              "      <td>S0095</td>\n",
              "      <td>it's a games word? like a computer games word?</td>\n",
              "      <td>28</td>\n",
              "      <td>25_34</td>\n",
              "      <td>19_29</td>\n",
              "    </tr>\n",
              "    <tr>\n",
              "      <th>2</th>\n",
              "      <td>3.0</td>\n",
              "      <td>S0032</td>\n",
              "      <td>yeah yeah</td>\n",
              "      <td>33</td>\n",
              "      <td>25_34</td>\n",
              "      <td>30_39</td>\n",
              "    </tr>\n",
              "    <tr>\n",
              "      <th>3</th>\n",
              "      <td>4.0</td>\n",
              "      <td>S0095</td>\n",
              "      <td>oh</td>\n",
              "      <td>33</td>\n",
              "      <td>25_34</td>\n",
              "      <td>30_39</td>\n",
              "    </tr>\n",
              "    <tr>\n",
              "      <th>4</th>\n",
              "      <td>5.0</td>\n",
              "      <td>S0032</td>\n",
              "      <td>I it's something I</td>\n",
              "      <td>41</td>\n",
              "      <td>35_44</td>\n",
              "      <td>40_49</td>\n",
              "    </tr>\n",
              "    <tr>\n",
              "      <th>...</th>\n",
              "      <td>...</td>\n",
              "      <td>...</td>\n",
              "      <td>...</td>\n",
              "      <td>...</td>\n",
              "      <td>...</td>\n",
              "      <td>...</td>\n",
              "    </tr>\n",
              "    <tr>\n",
              "      <th>3588</th>\n",
              "      <td>3589.0</td>\n",
              "      <td>S0032</td>\n",
              "      <td>blow to bits</td>\n",
              "      <td>47</td>\n",
              "      <td>45_59</td>\n",
              "      <td>40_49</td>\n",
              "    </tr>\n",
              "    <tr>\n",
              "      <th>3589</th>\n",
              "      <td>3590.0</td>\n",
              "      <td>S0094</td>\n",
              "      <td>yeah that's the only one that like makes sense</td>\n",
              "      <td>23</td>\n",
              "      <td>15_24</td>\n",
              "      <td>19_29</td>\n",
              "    </tr>\n",
              "    <tr>\n",
              "      <th>3590</th>\n",
              "      <td>3591.0</td>\n",
              "      <td>S0021</td>\n",
              "      <td>well I use gib in a very different like meanin...</td>\n",
              "      <td>23</td>\n",
              "      <td>15_24</td>\n",
              "      <td>19_29</td>\n",
              "    </tr>\n",
              "    <tr>\n",
              "      <th>3591</th>\n",
              "      <td>3592.0</td>\n",
              "      <td>S0032</td>\n",
              "      <td>what meaning do you use?</td>\n",
              "      <td>27</td>\n",
              "      <td>25_34</td>\n",
              "      <td>19_29</td>\n",
              "    </tr>\n",
              "    <tr>\n",
              "      <th>3592</th>\n",
              "      <td>3593.0</td>\n",
              "      <td>S0021</td>\n",
              "      <td>well we sort of just say gib</td>\n",
              "      <td>23</td>\n",
              "      <td>15_24</td>\n",
              "      <td>19_29</td>\n",
              "    </tr>\n",
              "  </tbody>\n",
              "</table>\n",
              "<p>2525 rows × 6 columns</p>\n",
              "</div>"
            ],
            "text/plain": [
              "           n    who                                                  u  \\\n",
              "0        1.0  S0094                                              words   \n",
              "1        2.0  S0095     it's a games word? like a computer games word?   \n",
              "2        3.0  S0032                                          yeah yeah   \n",
              "3        4.0  S0095                                                 oh   \n",
              "4        5.0  S0032                                 I it's something I   \n",
              "...      ...    ...                                                ...   \n",
              "3588  3589.0  S0032                                       blow to bits   \n",
              "3589  3590.0  S0094     yeah that's the only one that like makes sense   \n",
              "3590  3591.0  S0021  well I use gib in a very different like meanin...   \n",
              "3591  3592.0  S0032                           what meaning do you use?   \n",
              "3592  3593.0  S0021                       well we sort of just say gib   \n",
              "\n",
              "     exactage age1994 agerange  \n",
              "0          27   25_34    19_29  \n",
              "1          28   25_34    19_29  \n",
              "2          33   25_34    30_39  \n",
              "3          33   25_34    30_39  \n",
              "4          41   35_44    40_49  \n",
              "...       ...     ...      ...  \n",
              "3588       47   45_59    40_49  \n",
              "3589       23   15_24    19_29  \n",
              "3590       23   15_24    19_29  \n",
              "3591       27   25_34    19_29  \n",
              "3592       23   15_24    19_29  \n",
              "\n",
              "[2525 rows x 6 columns]"
            ]
          },
          "execution_count": 19,
          "metadata": {},
          "output_type": "execute_result"
        }
      ],
      "source": [
        "# viewing the new dataframe made\n",
        "df_new"
      ]
    },
    {
      "cell_type": "markdown",
      "id": "27cb5dbe",
      "metadata": {
        "id": "27cb5dbe"
      },
      "source": [
        "After creating the new dataframe, I wanted to print summary statistics for all columns together. This means that I wanted to see the values of each statistical measure (such as mean, median, and standard deviation) for each column in a tabular format. By doing this, I can quickly compare the values of each column and identify any differences or similarities between them."
      ]
    },
    {
      "cell_type": "code",
      "execution_count": null,
      "id": "267deb9f",
      "metadata": {
        "id": "267deb9f",
        "outputId": "3bddbe5e-47b7-4c3a-da1d-c22bca2ef749"
      },
      "outputs": [
        {
          "data": {
            "text/html": [
              "<div>\n",
              "<style scoped>\n",
              "    .dataframe tbody tr th:only-of-type {\n",
              "        vertical-align: middle;\n",
              "    }\n",
              "\n",
              "    .dataframe tbody tr th {\n",
              "        vertical-align: top;\n",
              "    }\n",
              "\n",
              "    .dataframe thead th {\n",
              "        text-align: right;\n",
              "    }\n",
              "</style>\n",
              "<table border=\"1\" class=\"dataframe\">\n",
              "  <thead>\n",
              "    <tr style=\"text-align: right;\">\n",
              "      <th></th>\n",
              "      <th>n</th>\n",
              "      <th>who</th>\n",
              "      <th>u</th>\n",
              "      <th>exactage</th>\n",
              "      <th>age1994</th>\n",
              "      <th>agerange</th>\n",
              "    </tr>\n",
              "  </thead>\n",
              "  <tbody>\n",
              "    <tr>\n",
              "      <th>count</th>\n",
              "      <td>2525.000000</td>\n",
              "      <td>2525.000000</td>\n",
              "      <td>2525.000000</td>\n",
              "      <td>2525.000000</td>\n",
              "      <td>2525.000000</td>\n",
              "      <td>2525.000000</td>\n",
              "    </tr>\n",
              "    <tr>\n",
              "      <th>mean</th>\n",
              "      <td>5.696238</td>\n",
              "      <td>5.092673</td>\n",
              "      <td>24.012277</td>\n",
              "      <td>1.959604</td>\n",
              "      <td>5.086733</td>\n",
              "      <td>4.943366</td>\n",
              "    </tr>\n",
              "    <tr>\n",
              "      <th>std</th>\n",
              "      <td>0.524372</td>\n",
              "      <td>0.551009</td>\n",
              "      <td>26.864813</td>\n",
              "      <td>0.293808</td>\n",
              "      <td>0.503555</td>\n",
              "      <td>0.231187</td>\n",
              "    </tr>\n",
              "    <tr>\n",
              "      <th>min</th>\n",
              "      <td>3.000000</td>\n",
              "      <td>5.000000</td>\n",
              "      <td>1.000000</td>\n",
              "      <td>1.000000</td>\n",
              "      <td>4.000000</td>\n",
              "      <td>4.000000</td>\n",
              "    </tr>\n",
              "    <tr>\n",
              "      <th>25%</th>\n",
              "      <td>5.000000</td>\n",
              "      <td>5.000000</td>\n",
              "      <td>4.000000</td>\n",
              "      <td>2.000000</td>\n",
              "      <td>5.000000</td>\n",
              "      <td>5.000000</td>\n",
              "    </tr>\n",
              "    <tr>\n",
              "      <th>50%</th>\n",
              "      <td>6.000000</td>\n",
              "      <td>5.000000</td>\n",
              "      <td>15.000000</td>\n",
              "      <td>2.000000</td>\n",
              "      <td>5.000000</td>\n",
              "      <td>5.000000</td>\n",
              "    </tr>\n",
              "    <tr>\n",
              "      <th>75%</th>\n",
              "      <td>6.000000</td>\n",
              "      <td>5.000000</td>\n",
              "      <td>33.000000</td>\n",
              "      <td>2.000000</td>\n",
              "      <td>5.000000</td>\n",
              "      <td>5.000000</td>\n",
              "    </tr>\n",
              "    <tr>\n",
              "      <th>max</th>\n",
              "      <td>6.000000</td>\n",
              "      <td>9.000000</td>\n",
              "      <td>206.000000</td>\n",
              "      <td>4.000000</td>\n",
              "      <td>6.000000</td>\n",
              "      <td>5.000000</td>\n",
              "    </tr>\n",
              "  </tbody>\n",
              "</table>\n",
              "</div>"
            ],
            "text/plain": [
              "                 n          who            u     exactage      age1994  \\\n",
              "count  2525.000000  2525.000000  2525.000000  2525.000000  2525.000000   \n",
              "mean      5.696238     5.092673    24.012277     1.959604     5.086733   \n",
              "std       0.524372     0.551009    26.864813     0.293808     0.503555   \n",
              "min       3.000000     5.000000     1.000000     1.000000     4.000000   \n",
              "25%       5.000000     5.000000     4.000000     2.000000     5.000000   \n",
              "50%       6.000000     5.000000    15.000000     2.000000     5.000000   \n",
              "75%       6.000000     5.000000    33.000000     2.000000     5.000000   \n",
              "max       6.000000     9.000000   206.000000     4.000000     6.000000   \n",
              "\n",
              "          agerange  \n",
              "count  2525.000000  \n",
              "mean      4.943366  \n",
              "std       0.231187  \n",
              "min       4.000000  \n",
              "25%       5.000000  \n",
              "50%       5.000000  \n",
              "75%       5.000000  \n",
              "max       5.000000  "
            ]
          },
          "execution_count": 20,
          "metadata": {},
          "output_type": "execute_result"
        }
      ],
      "source": [
        "columns = ['n', 'who', 'u', 'exactage', 'age1994', 'agerange']\n",
        "table_data = df_new[columns].applymap(lambda x: len(str(x)))\n",
        "table_data[columns].describe()\n"
      ]
    },
    {
      "cell_type": "markdown",
      "id": "f98e08c8",
      "metadata": {
        "id": "f98e08c8"
      },
      "source": [
        "from the above tabular data we can extract that the average utterance is 24.012277"
      ]
    },
    {
      "cell_type": "markdown",
      "id": "a2b829fb",
      "metadata": {
        "id": "a2b829fb"
      },
      "source": [
        "# Graphs are made for visualization of the new data"
      ]
    },
    {
      "cell_type": "code",
      "execution_count": null,
      "id": "7486396d",
      "metadata": {
        "id": "7486396d"
      },
      "outputs": [],
      "source": [
        "# Split age range column into min and max age columns\n",
        "df_new[['min_age', 'max_age']] = df_new['agerange'].str.split('_', expand=True)\n",
        "\n",
        "# Convert age columns to integer data type\n",
        "df_new['exactage'] = pd.to_numeric(df_new['exactage'], errors='coerce')\n",
        "df_new['min_age'] = pd.to_numeric(df_new['min_age'], errors='coerce')\n",
        "df_new['max_age'] = pd.to_numeric(df_new['max_age'], errors='coerce')"
      ]
    },
    {
      "cell_type": "code",
      "execution_count": null,
      "id": "1eb114d9",
      "metadata": {
        "id": "1eb114d9",
        "outputId": "22017381-bdc6-426b-e9e3-fe608ec9fd6a"
      },
      "outputs": [
        {
          "data": {
            "image/png": "[encoded data removed]",
            "text/plain": [
              "<Figure size 432x288 with 1 Axes>"
            ]
          },
          "metadata": {
            "needs_background": "light"
          },
          "output_type": "display_data"
        },
        {
          "data": {
            "image/png": "[encoded data removed]",
            "text/plain": [
              "<Figure size 432x288 with 1 Axes>"
            ]
          },
          "metadata": {
            "needs_background": "light"
          },
          "output_type": "display_data"
        }
      ],
      "source": [
        "# Create histogram of exact age\n",
        "df_new['exactage'].plot.hist()\n",
        "plt.show()\n",
        "# Create histogram of age range\n",
        "df_new['min_age'].plot.hist()\n",
        "df_new['max_age'].plot.hist()\n",
        "plt.show()"
      ]
    },
    {
      "cell_type": "code",
      "execution_count": null,
      "id": "dd73b744",
      "metadata": {
        "scrolled": true,
        "id": "dd73b744",
        "outputId": "bd580136-6835-46e7-f2e6-2dbc27f689cd"
      },
      "outputs": [
        {
          "data": {
            "image/png": "[encoded data removed]",
            "text/plain": [
              "<Figure size 432x288 with 1 Axes>"
            ]
          },
          "metadata": {
            "needs_background": "light"
          },
          "output_type": "display_data"
        }
      ],
      "source": [
        "# In this bar chart it is made to show the number of speakers within the age range\n",
        "age_range_counts = df_new['agerange'].value_counts()\n",
        "plt.bar(age_range_counts.index, age_range_counts.values)\n",
        "plt.xlabel('Age Range')\n",
        "plt.ylabel('Count')\n",
        "plt.title('Count of Speakers by Age Range')\n",
        "plt.show()\n"
      ]
    },
    {
      "cell_type": "code",
      "execution_count": null,
      "id": "9e91fcc0",
      "metadata": {
        "id": "9e91fcc0",
        "outputId": "e2aa1a87-e26e-4611-c409-e47480d71e7c"
      },
      "outputs": [
        {
          "data": {
            "image/png": "[encoded data removed]",
            "text/plain": [
              "<Figure size 720x432 with 1 Axes>"
            ]
          },
          "metadata": {
            "needs_background": "light"
          },
          "output_type": "display_data"
        }
      ],
      "source": [
        "# bar plot showing the First language count of speakers\n",
        "plt.figure(figsize=(10, 6))\n",
        "sns.countplot(x='l1', data=df_speaker)\n",
        "plt.xlabel('Native Language')\n",
        "plt.ylabel('Count')\n",
        "plt.title('Native Language Distribution')\n",
        "plt.xticks(rotation=90)\n",
        "plt.show()\n"
      ]
    },
    {
      "cell_type": "code",
      "execution_count": null,
      "id": "e62ccec0",
      "metadata": {
        "id": "e62ccec0",
        "outputId": "223c133e-faa9-43df-dc7c-f26142d215a2"
      },
      "outputs": [
        {
          "data": {
            "image/png": "[encoded data removed]",
            "text/plain": [
              "<Figure size 720x432 with 1 Axes>"
            ]
          },
          "metadata": {
            "needs_background": "light"
          },
          "output_type": "display_data"
        }
      ],
      "source": [
        "# Making a histogram to see the difference of utterence on the region Linguistic origin\n",
        "\n",
        "plt.figure(figsize=(10, 6))\n",
        "sns.countplot(data=df_speaker, x='lingorig', order=df_speaker['lingorig'].value_counts().head(7).index)\n",
        "plt.xlabel('lingorig')\n",
        "plt.ylabel('Count')\n",
        "plt.title('Top 7 Linguistic origin')\n",
        "plt.tight_layout()\n",
        "plt.show()"
      ]
    },
    {
      "cell_type": "code",
      "execution_count": null,
      "id": "88d49e04",
      "metadata": {
        "id": "88d49e04",
        "outputId": "00eda572-3ef3-452e-e83b-5ba26b3e236a"
      },
      "outputs": [
        {
          "data": {
            "image/png": "[encoded data removed]",
            "text/plain": [
              "<Figure size 720x576 with 1 Axes>"
            ]
          },
          "metadata": {
            "needs_background": "light"
          },
          "output_type": "display_data"
        }
      ],
      "source": [
        "#showing the most common words between the speakers\n",
        "plt.figure(figsize=(10, 8))\n",
        "sns.countplot(data=df_new, y='u', order=df_new['u'].value_counts().head(15).index)\n",
        "plt.xlabel('Count')\n",
        "plt.ylabel('u')\n",
        "plt.title('Top 15 u')\n",
        "plt.tight_layout()\n",
        "plt.show()\n"
      ]
    },
    {
      "cell_type": "markdown",
      "id": "49bc9629",
      "metadata": {
        "id": "49bc9629"
      },
      "source": [
        "# Training a simple classifier"
      ]
    },
    {
      "cell_type": "code",
      "execution_count": null,
      "id": "27fb28fe",
      "metadata": {
        "id": "27fb28fe"
      },
      "outputs": [],
      "source": [
        "#train_set, test_set = train_test_split(df_new, test_size=0.2)\n",
        "#train_set, test_set"
      ]
    },
    {
      "cell_type": "markdown",
      "id": "86a0a306",
      "metadata": {
        "id": "86a0a306"
      },
      "source": [
        "# Here i would be addding the logistic regression and getting its Validation Accuracy"
      ]
    },
    {
      "cell_type": "code",
      "execution_count": null,
      "id": "cf05ac34",
      "metadata": {
        "id": "cf05ac34",
        "outputId": "ccdf275e-b459-4e96-cda0-4f9f73761dcc"
      },
      "outputs": [
        {
          "name": "stdout",
          "output_type": "stream",
          "text": [
            "Test Accuracy: 0.25742574257425743\n"
          ]
        }
      ],
      "source": [
        "from sklearn.feature_extraction.text import CountVectorizer\n",
        "\n",
        "# Split the dataset into features (X) and target (y)\n",
        "X_text = df_new['u'].values\n",
        "y = df_new['agerange'].values\n",
        "\n",
        "# Split the data into training and testing sets\n",
        "X_train_text, X_test_text, y_train, y_test = train_test_split(X_text, y, test_size=0.2, random_state=8)\n",
        "\n",
        "# Convert text data which is the utterence to numerical representation using CountVectorizer\n",
        "vectorizer = CountVectorizer()\n",
        "X_train = vectorizer.fit_transform(X_train_text)\n",
        "X_test = vectorizer.transform(X_test_text)\n",
        "\n",
        "# Train the logistic regression classifier\n",
        "classifier = LogisticRegression(max_iter=128)\n",
        "classifier.fit(X_train, y_train)\n",
        "y_pred = classifier.predict(X_test)\n",
        "\n",
        "# Evaluate the model's performance\n",
        "accuracy = classifier.score(X_test, y_test)\n",
        "print(\"Test Accuracy:\", accuracy)"
      ]
    },
    {
      "cell_type": "markdown",
      "id": "b3cb8d0a",
      "metadata": {
        "id": "b3cb8d0a"
      },
      "source": [
        "# Splitting the data"
      ]
    },
    {
      "cell_type": "markdown",
      "id": "640b37f4",
      "metadata": {
        "id": "640b37f4"
      },
      "source": [
        "# Here Examining errors by calling the precision, recall, f1-score, support"
      ]
    },
    {
      "cell_type": "code",
      "execution_count": null,
      "id": "24bb974b",
      "metadata": {
        "id": "24bb974b",
        "outputId": "acf1f498-8fb9-4311-ad2d-0564290c05db"
      },
      "outputs": [
        {
          "name": "stdout",
          "output_type": "stream",
          "text": [
            "              precision    recall  f1-score   support\n",
            "\n",
            "        0_10       0.00      0.00      0.00        23\n",
            "       11_18       0.07      0.02      0.04        42\n",
            "       19_29       0.32      0.63      0.42       167\n",
            "       30_39       0.20      0.17      0.19        63\n",
            "       40_49       0.24      0.10      0.15        67\n",
            "       50_59       0.11      0.07      0.09        58\n",
            "       60_69       0.03      0.02      0.03        41\n",
            "       70_79       0.00      0.00      0.00        30\n",
            "       80_89       0.00      0.00      0.00         9\n",
            "       90_99       0.00      0.00      0.00         5\n",
            "\n",
            "    accuracy                           0.26       505\n",
            "   macro avg       0.10      0.10      0.09       505\n",
            "weighted avg       0.18      0.26      0.20       505\n",
            "\n"
          ]
        },
        {
          "name": "stderr",
          "output_type": "stream",
          "text": [
            "C:\\Users\\3mabd\\anaconda3\\lib\\site-packages\\sklearn\\metrics\\_classification.py:1318: UndefinedMetricWarning: Precision and F-score are ill-defined and being set to 0.0 in labels with no predicted samples. Use `zero_division` parameter to control this behavior.\n",
            "  _warn_prf(average, modifier, msg_start, len(result))\n",
            "C:\\Users\\3mabd\\anaconda3\\lib\\site-packages\\sklearn\\metrics\\_classification.py:1318: UndefinedMetricWarning: Precision and F-score are ill-defined and being set to 0.0 in labels with no predicted samples. Use `zero_division` parameter to control this behavior.\n",
            "  _warn_prf(average, modifier, msg_start, len(result))\n",
            "C:\\Users\\3mabd\\anaconda3\\lib\\site-packages\\sklearn\\metrics\\_classification.py:1318: UndefinedMetricWarning: Precision and F-score are ill-defined and being set to 0.0 in labels with no predicted samples. Use `zero_division` parameter to control this behavior.\n",
            "  _warn_prf(average, modifier, msg_start, len(result))\n"
          ]
        }
      ],
      "source": [
        "# precision, recall, F1-score, and support\n",
        "classification_metrics = classification_report(y_test, y_pred)\n",
        "print(classification_metrics)"
      ]
    },
    {
      "cell_type": "code",
      "execution_count": null,
      "id": "630ce84f",
      "metadata": {
        "id": "630ce84f",
        "outputId": "094d1949-01e3-43cf-c846-ad39aa23d442"
      },
      "outputs": [
        {
          "name": "stdout",
          "output_type": "stream",
          "text": [
            "Precision: 0.09729080741316559\n",
            "Recall: 0.10309766104189708\n",
            "Confusion Matrix:\n",
            " [[  0   0  18   2   1   0   2   0   0   0]\n",
            " [  0   1  33   3   2   1   2   0   0   0]\n",
            " [  1   5 106  20  12   9  14   0   0   0]\n",
            " [  1   1  40  11   0   7   3   0   0   0]\n",
            " [  1   1  43   5   7   3   7   0   0   0]\n",
            " [  1   4  37   7   2   4   2   1   0   0]\n",
            " [  0   0  27   3   4   6   1   0   0   0]\n",
            " [  1   1  21   2   1   4   0   0   0   0]\n",
            " [  0   2   4   2   0   0   0   1   0   0]\n",
            " [  0   0   4   0   0   1   0   0   0   0]]\n"
          ]
        },
        {
          "name": "stderr",
          "output_type": "stream",
          "text": [
            "C:\\Users\\3mabd\\anaconda3\\lib\\site-packages\\sklearn\\metrics\\_classification.py:1318: UndefinedMetricWarning: Precision is ill-defined and being set to 0.0 in labels with no predicted samples. Use `zero_division` parameter to control this behavior.\n",
            "  _warn_prf(average, modifier, msg_start, len(result))\n"
          ]
        },
        {
          "data": {
            "image/png": "[encoded data removed]",
            "text/plain": [
              "<Figure size 576x432 with 2 Axes>"
            ]
          },
          "metadata": {
            "needs_background": "light"
          },
          "output_type": "display_data"
        }
      ],
      "source": [
        "# precision, recall, and confusion matrix for the logistic regression\n",
        "precision = precision_score(y_test, y_pred, average='macro')\n",
        "recall = recall_score(y_test, y_pred, average='macro')\n",
        "confusion = confusion_matrix(y_test, y_pred)\n",
        "\n",
        "print(\"Precision:\", precision)\n",
        "print(\"Recall:\", recall)\n",
        "print(\"Confusion Matrix:\\n\", confusion)\n",
        "# Plot the confusion matrix as a heatmap\n",
        "plt.figure(figsize=(8, 6))\n",
        "sns.heatmap(confusion, annot=True, cmap=\"Blues\", fmt=\"d\", xticklabels=classifier.classes_, yticklabels=classifier.classes_)\n",
        "plt.xlabel(\"Predicted Labels\")\n",
        "plt.ylabel(\"True Labels\")\n",
        "plt.title(\"Confusion Matrix\")\n",
        "plt.show()"
      ]
    },
    {
      "cell_type": "markdown",
      "id": "77facc44",
      "metadata": {
        "id": "77facc44"
      },
      "source": [
        "# Adding the Random forest model"
      ]
    },
    {
      "cell_type": "code",
      "execution_count": null,
      "id": "586c6855",
      "metadata": {
        "id": "586c6855"
      },
      "outputs": [],
      "source": [
        "from sklearn.ensemble import RandomForestClassifier\n",
        "# Convert text data to numerical representation using CountVectorizer\n",
        "vectorizer = CountVectorizer()\n",
        "X_train = vectorizer.fit_transform(X_train_text)\n",
        "X_val = vectorizer.transform(X_val_text)\n",
        "\n",
        "# Random Forest Classifier being specified\n",
        "complex_model = RandomForestClassifier(n_estimators=100)\n",
        "complex_model.fit(X_train, y_train)\n",
        "# Predictions on the validation set\n",
        "y_val_pred = complex_model.predict(X_val)"
      ]
    },
    {
      "cell_type": "code",
      "execution_count": null,
      "id": "7b53e885",
      "metadata": {
        "id": "7b53e885",
        "outputId": "19499d74-507f-45ce-ae54-6b93b8a59b86"
      },
      "outputs": [
        {
          "name": "stderr",
          "output_type": "stream",
          "text": [
            "C:\\Users\\3mabd\\anaconda3\\lib\\site-packages\\sklearn\\metrics\\_classification.py:1318: UndefinedMetricWarning: Precision is ill-defined and being set to 0.0 in labels with no predicted samples. Use `zero_division` parameter to control this behavior.\n",
            "  _warn_prf(average, modifier, msg_start, len(result))\n"
          ]
        }
      ],
      "source": [
        "y_val_pred = np.array(y_val_pred).flatten()\n",
        "y_val = np.array(y_val).flatten()\n",
        "\n",
        "# accuracy, precision, recall, and confusion matrix\n",
        "accuracy = accuracy_score(y_val, y_val_pred)\n",
        "precision = precision_score(y_val, y_val_pred, average='macro')\n",
        "recall = recall_score(y_val, y_val_pred, average='macro')\n",
        "confusion_mat = confusion_matrix(y_val, y_val_pred)"
      ]
    },
    {
      "cell_type": "markdown",
      "id": "85b6114e",
      "metadata": {
        "id": "85b6114e"
      },
      "source": [
        "* getting the accuracy score on the validation set\n",
        "* precision, recall, and confusion matrix readings"
      ]
    },
    {
      "cell_type": "code",
      "execution_count": null,
      "id": "8042bb36",
      "metadata": {
        "id": "8042bb36",
        "outputId": "76ddd384-28f3-4dac-c195-f7af3b6fa5d3"
      },
      "outputs": [
        {
          "name": "stdout",
          "output_type": "stream",
          "text": [
            "Validation Accuracy: 21.78%\n",
            "Validation Precision: 0.10\n",
            "Validation Recall: 0.09\n",
            "Confusion Matrix:\n",
            "[[ 1  2 15  1  1  0  3  0  0  0]\n",
            " [ 0  4 29  4  1  1  2  1  0  0]\n",
            " [ 5 15 90 20 23  8  4  2  0  0]\n",
            " [ 2  4 36  6  6  8  1  0  0  0]\n",
            " [ 1  4 47  4  5  1  5  0  0  0]\n",
            " [ 0  5 36  8  4  3  1  0  1  0]\n",
            " [ 0  5 24  3  5  2  0  1  1  0]\n",
            " [ 0  1 18  5  1  2  2  1  0  0]\n",
            " [ 1  1  4  1  0  1  0  1  0  0]\n",
            " [ 2  0  3  0  0  0  0  0  0  0]]\n",
            "Misclassified Samples:\n",
            "  (0, 854)\t1\n",
            "  (0, 988)\t1\n",
            "  (0, 1264)\t1\n",
            "  (1, 621)\t1\n",
            "  (1, 1284)\t1\n",
            "  (2, 1453)\t1\n",
            "  (3, 192)\t1\n",
            "  (4, 214)\t1\n",
            "  (4, 395)\t1\n",
            "  (4, 823)\t1\n",
            "  (5, 39)\t2\n",
            "  (5, 270)\t1\n",
            "  (5, 368)\t1\n",
            "  (5, 1207)\t1\n",
            "  (6, 7)\t1\n",
            "  (6, 56)\t1\n",
            "  (6, 586)\t1\n",
            "  (6, 831)\t1\n",
            "  (6, 849)\t1\n",
            "  (6, 1278)\t1\n",
            "  (6, 1410)\t1\n",
            "  (7, 1453)\t1\n",
            "  (8, 551)\t1\n",
            "  (8, 719)\t1\n",
            "  (8, 1007)\t1\n",
            "  :\t:\n",
            "  (392, 849)\t1\n",
            "  (392, 1101)\t1\n",
            "  (392, 1102)\t1\n",
            "  (392, 1299)\t2\n",
            "  (392, 1352)\t1\n",
            "  (392, 1360)\t1\n",
            "  (392, 1398)\t1\n",
            "  (392, 1402)\t1\n",
            "  (393, 46)\t1\n",
            "  (393, 468)\t1\n",
            "  (393, 510)\t1\n",
            "  (393, 516)\t1\n",
            "  (393, 692)\t1\n",
            "  (393, 775)\t1\n",
            "  (393, 861)\t1\n",
            "  (393, 1028)\t1\n",
            "  (393, 1284)\t1\n",
            "  (393, 1445)\t1\n",
            "  (394, 129)\t1\n",
            "  (394, 328)\t1\n",
            "  (394, 621)\t1\n",
            "  (394, 692)\t1\n",
            "  (394, 849)\t1\n",
            "  (394, 1097)\t1\n",
            "  (394, 1264)\t1\n",
            "Misclassified Labels:\n",
            "['30_39' '60_69' '40_49' '50_59' '60_69' '70_79' '19_29' '50_59' '19_29'\n",
            " '19_29' '70_79' '11_18' '50_59' '11_18' '30_39' '70_79' '50_59' '60_69'\n",
            " '30_39' '80_89' '60_69' '40_49' '30_39' '40_49' '40_49' '19_29' '19_29'\n",
            " '50_59' '60_69' '40_49' '19_29' '70_79' '11_18' '50_59' '11_18' '40_49'\n",
            " '60_69' '50_59' '19_29' '19_29' '30_39' '11_18' '11_18' '50_59' '19_29'\n",
            " '30_39' '60_69' '90_99' '11_18' '40_49' '0_10' '30_39' '40_49' '60_69'\n",
            " '19_29' '60_69' '50_59' '50_59' '11_18' '80_89' '40_49' '80_89' '19_29'\n",
            " '19_29' '0_10' '40_49' '30_39' '70_79' '70_79' '30_39' '40_49' '90_99'\n",
            " '30_39' '30_39' '60_69' '40_49' '0_10' '30_39' '0_10' '40_49' '60_69'\n",
            " '19_29' '40_49' '50_59' '11_18' '80_89' '30_39' '0_10' '40_49' '40_49'\n",
            " '19_29' '50_59' '0_10' '60_69' '40_49' '80_89' '40_49' '19_29' '30_39'\n",
            " '11_18' '40_49' '40_49' '11_18' '19_29' '40_49' '50_59' '70_79' '19_29'\n",
            " '11_18' '40_49' '19_29' '30_39' '19_29' '50_59' '40_49' '19_29' '30_39'\n",
            " '19_29' '70_79' '40_49' '11_18' '19_29' '30_39' '40_49' '40_49' '30_39'\n",
            " '40_49' '19_29' '50_59' '70_79' '30_39' '40_49' '11_18' '40_49' '70_79'\n",
            " '70_79' '19_29' '19_29' '60_69' '50_59' '0_10' '70_79' '40_49' '19_29'\n",
            " '60_69' '11_18' '19_29' '19_29' '11_18' '19_29' '70_79' '11_18' '19_29'\n",
            " '60_69' '0_10' '50_59' '0_10' '60_69' '60_69' '50_59' '80_89' '40_49'\n",
            " '50_59' '30_39' '50_59' '50_59' '0_10' '60_69' '40_49' '50_59' '90_99'\n",
            " '19_29' '40_49' '40_49' '50_59' '30_39' '50_59' '60_69' '70_79' '60_69'\n",
            " '11_18' '30_39' '30_39' '40_49' '19_29' '40_49' '40_49' '30_39' '50_59'\n",
            " '19_29' '50_59' '19_29' '70_79' '0_10' '50_59' '19_29' '40_49' '19_29'\n",
            " '40_49' '70_79' '50_59' '19_29' '60_69' '50_59' '30_39' '0_10' '19_29'\n",
            " '70_79' '50_59' '40_49' '50_59' '50_59' '19_29' '50_59' '30_39' '11_18'\n",
            " '50_59' '60_69' '19_29' '40_49' '50_59' '50_59' '40_49' '11_18' '0_10'\n",
            " '19_29' '60_69' '30_39' '90_99' '70_79' '11_18' '30_39' '30_39' '30_39'\n",
            " '50_59' '40_49' '70_79' '60_69' '19_29' '11_18' '0_10' '0_10' '19_29'\n",
            " '30_39' '19_29' '60_69' '40_49' '30_39' '50_59' '11_18' '30_39' '60_69'\n",
            " '11_18' '19_29' '19_29' '90_99' '50_59' '30_39' '30_39' '19_29' '40_49'\n",
            " '60_69' '19_29' '19_29' '70_79' '60_69' '50_59' '11_18' '30_39' '40_49'\n",
            " '19_29' '60_69' '30_39' '50_59' '70_79' '60_69' '19_29' '0_10' '19_29'\n",
            " '30_39' '11_18' '50_59' '60_69' '11_18' '40_49' '19_29' '60_69' '30_39'\n",
            " '70_79' '19_29' '30_39' '19_29' '19_29' '80_89' '50_59' '19_29' '19_29'\n",
            " '70_79' '30_39' '19_29' '70_79' '30_39' '0_10' '60_69' '60_69' '30_39'\n",
            " '50_59' '0_10' '30_39' '50_59' '19_29' '11_18' '19_29' '40_49' '19_29'\n",
            " '50_59' '11_18' '19_29' '19_29' '60_69' '80_89' '11_18' '60_69' '30_39'\n",
            " '11_18' '60_69' '0_10' '70_79' '19_29' '40_49' '60_69' '30_39' '40_49'\n",
            " '40_49' '19_29' '70_79' '19_29' '30_39' '50_59' '0_10' '40_49' '11_18'\n",
            " '11_18' '19_29' '19_29' '19_29' '30_39' '50_59' '60_69' '40_49' '0_10'\n",
            " '19_29' '30_39' '40_49' '50_59' '50_59' '30_39' '19_29' '40_49' '30_39'\n",
            " '11_18' '30_39' '50_59' '19_29' '70_79' '50_59' '30_39' '30_39' '11_18'\n",
            " '50_59' '30_39' '19_29' '0_10' '40_49' '70_79' '19_29' '40_49' '50_59'\n",
            " '11_18' '11_18' '30_39' '60_69' '19_29' '80_89' '19_29' '60_69' '40_49'\n",
            " '40_49' '30_39' '50_59' '40_49' '40_49' '70_79' '40_49' '11_18']\n"
          ]
        },
        {
          "name": "stderr",
          "output_type": "stream",
          "text": [
            "C:\\Users\\3mabd\\anaconda3\\lib\\site-packages\\sklearn\\metrics\\_classification.py:1318: UndefinedMetricWarning: Precision is ill-defined and being set to 0.0 in labels with no predicted samples. Use `zero_division` parameter to control this behavior.\n",
            "  _warn_prf(average, modifier, msg_start, len(result))\n"
          ]
        }
      ],
      "source": [
        "# Calculate the validation accuracy\n",
        "accuracy = accuracy_score(y_val, y_val_pred)\n",
        "print(\"Validation Accuracy: {:.2f}%\".format(accuracy * 100))\n",
        "# Calculate the validation precision and validation recall\n",
        "precision = precision_score(y_val, y_val_pred, average='macro')\n",
        "print(\"Validation Precision: {:.2f}\".format(precision))\n",
        "recall = recall_score(y_val, y_val_pred, average='macro')\n",
        "print(\"Validation Recall: {:.2f}\".format(recall))\n",
        "\n",
        "# Calculate the confusion matrix\n",
        "confusion_mat = confusion_matrix(y_val, y_val_pred)\n",
        "print(\"Confusion Matrix:\")\n",
        "print(confusion_mat)\n",
        "\n",
        "\n",
        "# Error analysis\n",
        "misclassified_samples = X_val[y_val != y_val_pred]\n",
        "misclassified_labels = y_val[y_val != y_val_pred]\n",
        "print(\"Misclassified Samples:\")\n",
        "print(misclassified_samples)\n",
        "print(\"Misclassified Labels:\")\n",
        "print(misclassified_labels)"
      ]
    },
    {
      "cell_type": "markdown",
      "id": "bd4f06a8",
      "metadata": {
        "id": "bd4f06a8"
      },
      "source": [
        "# Comparing the accuracies in a table"
      ]
    },
    {
      "cell_type": "code",
      "execution_count": null,
      "id": "8ca0d60a",
      "metadata": {
        "id": "8ca0d60a",
        "outputId": "891c3c00-280c-4fa4-98a3-c7e694976aa0"
      },
      "outputs": [
        {
          "name": "stdout",
          "output_type": "stream",
          "text": [
            "                        Model  Accuracy\n",
            "0  Simple Logistic Regression  0.217822\n",
            "1       Complex Random Forest  0.217822\n"
          ]
        }
      ],
      "source": [
        "# adding the accurcy for the logistic regression\n",
        "simple_accuracy = accuracy\n",
        "\n",
        "# Calculating the accuracy for the Complex Random Forest Classifier\n",
        "complex_accuracy = complex_model.score(X_val, y_val)\n",
        "# Create a DataFrame to store the accuracies\n",
        "accuracies_df = pd.DataFrame({\n",
        "                              'Model': ['Simple Logistic Regression', 'Complex Random Forest'],\n",
        "                               'Accuracy': [simple_accuracy, complex_accuracy]\n",
        "})\n",
        "print(accuracies_df)\n"
      ]
    },
    {
      "cell_type": "code",
      "execution_count": null,
      "id": "f11fce54",
      "metadata": {
        "id": "f11fce54"
      },
      "outputs": [],
      "source": []
    }
  ],
  "metadata": {
    "kernelspec": {
      "display_name": "Python 3 (ipykernel)",
      "language": "python",
      "name": "python3"
    },
    "language_info": {
      "codemirror_mode": {
        "name": "ipython",
        "version": 3
      },
      "file_extension": ".py",
      "mimetype": "text/x-python",
      "name": "python",
      "nbconvert_exporter": "python",
      "pygments_lexer": "ipython3",
      "version": "3.9.12"
    },
    "colab": {
      "provenance": [],
      "include_colab_link": true
    }
  },
  "nbformat": 4,
  "nbformat_minor": 5
}